{
  "nbformat": 4,
  "nbformat_minor": 0,
  "metadata": {
    "colab": {
      "provenance": [],
      "authorship_tag": "ABX9TyMJjDEQ9EIKQR8FY/8Srf4v",
      "include_colab_link": true
    },
    "kernelspec": {
      "name": "python3",
      "display_name": "Python 3"
    },
    "language_info": {
      "name": "python"
    }
  },
  "cells": [
    {
      "cell_type": "markdown",
      "metadata": {
        "id": "view-in-github",
        "colab_type": "text"
      },
      "source": [
        "<a href=\"https://colab.research.google.com/github/Chanakya2006gt/Batch-17/blob/main/Lab5.ipynb\" target=\"_parent\"><img src=\"https://colab.research.google.com/assets/colab-badge.svg\" alt=\"Open In Colab\"/></a>"
      ]
    },
    {
      "cell_type": "markdown",
      "source": [
        "Task - 1 :"
      ],
      "metadata": {
        "id": "mA-htkIR4fGY"
      }
    },
    {
      "cell_type": "markdown",
      "source": [
        "Task 1- Before Updation. prompt(generate me a simple python login system)"
      ],
      "metadata": {
        "id": "NcjPDkQL5d9M"
      }
    },
    {
      "cell_type": "code",
      "execution_count": null,
      "metadata": {
        "id": "FXhXG2kw3WKO"
      },
      "outputs": [],
      "source": [
        "def simple_login():\n",
        "    \"\"\"A simple login system.\"\"\"\n",
        "\n",
        "    correct_username = \"user\"\n",
        "    correct_password = \"password\"\n",
        "\n",
        "    username = input(\"Enter username: \")\n",
        "    password = input(\"Enter password: \")\n",
        "\n",
        "    if username == correct_username and password == correct_password:\n",
        "        print(\"Login successful! Welcome.\")\n",
        "    else:\n",
        "        print(\"Login failed. Invalid username or password.\")\n",
        "\n",
        "simple_login()"
      ]
    },
    {
      "cell_type": "markdown",
      "source": [
        "Task 1 - After Updation"
      ],
      "metadata": {
        "id": "b79U6isZ5sHk"
      }
    },
    {
      "cell_type": "code",
      "metadata": {
        "id": "ca749fa8"
      },
      "source": [
        "import sqlite3\n",
        "import bcrypt\n",
        "\n",
        "def setup_database():\n",
        "    \"\"\"Sets up the SQLite database and creates the users table.\"\"\"\n",
        "    conn = sqlite3.connect('users.db')\n",
        "    c = conn.cursor()\n",
        "\n",
        "    # Create table if it doesn't exist\n",
        "    c.execute('''\n",
        "        CREATE TABLE IF NOT EXISTS users (\n",
        "            username TEXT PRIMARY KEY,\n",
        "            password_hash TEXT NOT NULL,\n",
        "            role TEXT NOT NULL\n",
        "        )\n",
        "    ''')\n",
        "    conn.commit()\n",
        "    conn.close()\n",
        "    print(\"Database setup complete.\")\n",
        "\n",
        "setup_database()"
      ],
      "execution_count": null,
      "outputs": []
    },
    {
      "cell_type": "markdown",
      "source": [
        "Task - 2 :"
      ],
      "metadata": {
        "id": "oz9Htsnq6UwN"
      }
    },
    {
      "cell_type": "markdown",
      "source": [
        "Before Updation:"
      ],
      "metadata": {
        "id": "dT4lj0Nn6bQz"
      }
    },
    {
      "cell_type": "code",
      "source": [],
      "metadata": {
        "id": "Fpb8gqKz7gxe"
      },
      "execution_count": null,
      "outputs": []
    }
  ]
}